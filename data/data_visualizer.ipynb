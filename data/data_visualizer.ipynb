{
 "cells": [
  {
   "cell_type": "code",
   "execution_count": null,
   "id": "203c9a49",
   "metadata": {},
   "outputs": [],
   "source": [
    "import json\n",
    "import numpy as np\n",
    "import pandas as pd\n",
    "import matplotlib.pyplot as plt"
   ]
  },
  {
   "cell_type": "code",
   "execution_count": null,
   "id": "a0cf225c",
   "metadata": {},
   "outputs": [],
   "source": [
    "f = open('sample.json')\n",
    "jsonDict = json.load(f)\n",
    "brokerDataDict = {}\n",
    "directDataDict = {}\n",
    "for jsondata in jsonDict:\n",
    "    if jsondata[\"receivedFromBroker\"] == False:\n",
    "        directDataList.append(jsondata)\n",
    "    else:\n",
    "        brokerDataList.append(jsondata)"
   ]
  },
  {
   "cell_type": "code",
   "execution_count": null,
   "id": "e845a773",
   "metadata": {},
   "outputs": [],
   "source": [
    "brokerDataFrame = pd.DataFrame.from_dict(brokerDataDict)\n",
    "brokerDataFrame.style # show data about the msgs received via broker as table"
   ]
  },
  {
   "cell_type": "code",
   "execution_count": null,
   "id": "5e68a46d",
   "metadata": {},
   "outputs": [],
   "source": [
    "directDataFrame = pd.DataFrame.from_dict(directDataDict)\n",
    "directDataFrame.style # show data about the msgs received via direct approach as table"
   ]
  },
  {
   "cell_type": "code",
   "execution_count": null,
   "id": "bf473856",
   "metadata": {},
   "outputs": [],
   "source": [
    "count, bin_edges = np.histogram(brokerDataFrame['Num_topics_subscribed'])\n",
    "brokerDataFrame['Num_topics_subscribed'].plot(kind='hist', figsize=(8, 5), xticks=bin_edges)\n",
    "plt.title('Num_topics_subscribed and latency for broker approach') # add a title to the histogram\n",
    "plt.ylabel('Number of topics') # add y-label\n",
    "plt.xlabel(\"Latency\") # add x-label\n",
    "plt.show()"
   ]
  },
  {
   "cell_type": "code",
   "execution_count": null,
   "id": "adeed0a3",
   "metadata": {},
   "outputs": [],
   "source": [
    "count, bin_edges = np.histogram(directDataFrame['Num_topics_subscribed'])\n",
    "directDataFrame['Num_topics_subscribed'].plot(kind='hist', figsize=(8, 5), xticks=bin_edges)\n",
    "plt.title('Num_topics_subscribed and latency for direct approach') # add a title to the histogram\n",
    "plt.ylabel('Number of topics') # add y-label\n",
    "plt.xlabel(\"Latency\") # add x-label\n",
    "plt.show()"
   ]
  },
  {
   "cell_type": "code",
   "execution_count": null,
   "id": "7c956a2b",
   "metadata": {},
   "outputs": [],
   "source": []
  }
 ],
 "metadata": {
  "kernelspec": {
   "display_name": "Python 3",
   "language": "python",
   "name": "python3"
  },
  "language_info": {
   "codemirror_mode": {
    "name": "ipython",
    "version": 3
   },
   "file_extension": ".py",
   "mimetype": "text/x-python",
   "name": "python",
   "nbconvert_exporter": "python",
   "pygments_lexer": "ipython3",
   "version": "3.8.8"
  }
 },
 "nbformat": 4,
 "nbformat_minor": 5
}
